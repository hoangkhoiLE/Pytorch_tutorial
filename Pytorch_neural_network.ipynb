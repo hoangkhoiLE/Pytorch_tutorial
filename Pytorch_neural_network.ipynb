{
  "nbformat": 4,
  "nbformat_minor": 0,
  "metadata": {
    "colab": {
      "name": "Pytorch_neural_network.ipynb",
      "provenance": []
    },
    "kernelspec": {
      "name": "python3",
      "display_name": "Python 3"
    }
  },
  "cells": [
    {
      "cell_type": "markdown",
      "metadata": {
        "id": "H0zeUKLfZ5Pn",
        "colab_type": "text"
      },
      "source": [
        "Initialisation data\n",
        "torchvision dataset is images in range [0,1] we change it to [-1,1]"
      ]
    },
    {
      "cell_type": "code",
      "metadata": {
        "id": "lnRkJbsLYc-y",
        "colab_type": "code",
        "colab": {
          "base_uri": "https://localhost:8080/",
          "height": 84
        },
        "outputId": "89e61954-2dc9-4024-f659-c5bad0d5e705"
      },
      "source": [
        "import torch\n",
        "import torchvision\n",
        "import torchvision.transforms as transforms\n",
        "\n",
        "#Normalization image\n",
        "transform = transforms.Compose(\n",
        "  [transforms.ToTensor(),\n",
        "  transforms.Normalize((0.5, 0.5, 0.5), (0.5, 0.5, 0.5))]\n",
        ")\n",
        "#Create a data set for training\n",
        "trainset = torchvision.datasets.CIFAR10(root = './CIFAR10', train = True, \n",
        "                                       download = True, transform = transform)\n",
        "trainloader = torch.utils.data.DataLoader(trainset, batch_size = 4, \n",
        "                                         shuffle = True, num_workers = 2)\n",
        "#Create a data set for test\n",
        "testset = torchvision.datasets.CIFAR10(root = './CIFAR10', train = False, \n",
        "                                      download = True, transform = transform)\n",
        "\n",
        "testloader = torch.utils.data.DataLoader(testset, batch_size = 4,\n",
        "                                              shuffle = False, num_workers = 2)\n",
        "\n",
        "classes = ('plane', 'car', 'bird', 'cat',\n",
        "           'deer', 'dog', 'frog', 'horse', 'ship', 'truck')"
      ],
      "execution_count": 19,
      "outputs": [
        {
          "output_type": "stream",
          "text": [
            "\r0it [00:00, ?it/s]"
          ],
          "name": "stderr"
        },
        {
          "output_type": "stream",
          "text": [
            "Downloading https://www.cs.toronto.edu/~kriz/cifar-10-python.tar.gz to ./CIFAR10/cifar-10-python.tar.gz\n"
          ],
          "name": "stdout"
        },
        {
          "output_type": "stream",
          "text": [
            "170500096it [00:06, 26795828.24it/s]                               \n"
          ],
          "name": "stderr"
        },
        {
          "output_type": "stream",
          "text": [
            "Extracting ./CIFAR10/cifar-10-python.tar.gz to ./CIFAR10\n",
            "Files already downloaded and verified\n"
          ],
          "name": "stdout"
        }
      ]
    },
    {
      "cell_type": "markdown",
      "metadata": {
        "id": "kY5QPTi1aA46",
        "colab_type": "text"
      },
      "source": [
        "Review shape of tensor"
      ]
    },
    {
      "cell_type": "code",
      "metadata": {
        "id": "uL0TpzwbYvCM",
        "colab_type": "code",
        "colab": {
          "base_uri": "https://localhost:8080/",
          "height": 50
        },
        "outputId": "d7744c65-7311-4e9a-de1b-cd7d6bd7b5b4"
      },
      "source": [
        "print(type(trainset[0][0]))\n",
        "print(trainset[0][0].size())"
      ],
      "execution_count": 20,
      "outputs": [
        {
          "output_type": "stream",
          "text": [
            "<class 'torch.Tensor'>\n",
            "torch.Size([3, 32, 32])\n"
          ],
          "name": "stdout"
        }
      ]
    },
    {
      "cell_type": "markdown",
      "metadata": {
        "id": "Q0zSU8ryaGCz",
        "colab_type": "text"
      },
      "source": [
        "Review image by matplotlib"
      ]
    },
    {
      "cell_type": "code",
      "metadata": {
        "id": "UsuIEwDMaFib",
        "colab_type": "code",
        "colab": {
          "base_uri": "https://localhost:8080/",
          "height": 155
        },
        "outputId": "383b405f-661e-4030-836d-19de6bd0d3f8"
      },
      "source": [
        "import matplotlib.pyplot as plt\n",
        "import numpy as np\n",
        "\n",
        "#functions to show an image\n",
        "\n",
        "def imshow(img):\n",
        "    img = img/ 2 + 0.5\n",
        "    npimg = img.numpy()\n",
        "    plt.imshow(np.transpose(npimg, (1,2,0)))\n",
        "    plt.show()\n",
        "\n",
        "dataiter = iter(trainloader)\n",
        "images, labels = dataiter.next()\n",
        "\n",
        "imshow(torchvision.utils.make_grid(images))\n",
        "print(' '.join('%5s' % classes[labels[j]] for j in range(4)))"
      ],
      "execution_count": 22,
      "outputs": [
        {
          "output_type": "display_data",
          "data": {
            "image/png": "[encoded data removed]",
            "text/plain": [
              "<Figure size 432x288 with 1 Axes>"
            ]
          },
          "metadata": {
            "tags": []
          }
        },
        {
          "output_type": "stream",
          "text": [
            "plane   car truck  ship\n"
          ],
          "name": "stdout"
        }
      ]
    },
    {
      "cell_type": "markdown",
      "metadata": {
        "id": "6o31gVzabjXg",
        "colab_type": "text"
      },
      "source": [
        "Create architecture of neural network with \n",
        "\n",
        "```\n",
        "# Ce texte est au format code\n",
        "```\n",
        "\n"
      ]
    },
    {
      "cell_type": "code",
      "metadata": {
        "id": "WmcapPPGY1uz",
        "colab_type": "code",
        "colab": {}
      },
      "source": [
        "import torch.nn as nn\n",
        "import torch.nn.functional as F\n",
        "\n",
        "class Net(nn.Module):\n",
        "      def __init__(self):\n",
        "          super(Net, self).__init__()\n",
        "          self.conv1 = nn.Conv2d(3, 12, 5)\n",
        "          self.pool = nn.MaxPool2d(2,2)\n",
        "          self.conv2 = nn.Conv2d(12, 24, 5)\n",
        "          self.fc1 = nn.Linear(24*5*5, 120)\n",
        "          self.fc2 = nn.Linear(120, 64)\n",
        "          self.fc3 = nn.Linear(64, 10)\n",
        "      \n",
        "      def forward(self, x):\n",
        "          x = self.pool(F.relu(self.conv1(x)))\n",
        "          x = self.pool(F.relu(self.conv2(x)))\n",
        "          x = x.view(-1, 24* 5 * 5)\n",
        "          x = F.relu(self.fc1(x))\n",
        "          x = F.relu(self.fc2(x))\n",
        "          x = self.fc3(x)\n",
        "          return x\n",
        "\n",
        "net = Net()"
      ],
      "execution_count": 0,
      "outputs": []
    },
    {
      "cell_type": "markdown",
      "metadata": {
        "id": "c8zNNsbrcyZq",
        "colab_type": "text"
      },
      "source": [
        "Determine loss function( cross-entropy and optimizer function(stochastic gradient descent)"
      ]
    },
    {
      "cell_type": "code",
      "metadata": {
        "id": "fSLw5s-Sc0GK",
        "colab_type": "code",
        "colab": {}
      },
      "source": [
        "import torch.optim as optim\n",
        "\n",
        "criterion = nn.CrossEntropyLoss()\n",
        "optimizer = optim.SGD(net.parameters(), lr = 0.001, momentum = 0.1)"
      ],
      "execution_count": 0,
      "outputs": []
    },
    {
      "cell_type": "markdown",
      "metadata": {
        "id": "ms8iVjW2dTJ_",
        "colab_type": "text"
      },
      "source": [
        "Training model"
      ]
    },
    {
      "cell_type": "code",
      "metadata": {
        "id": "v8yyWAG7cyEG",
        "colab_type": "code",
        "colab": {
          "base_uri": "https://localhost:8080/",
          "height": 234
        },
        "outputId": "b54e47b8-3749-4c74-c64f-0f5a240a3eb5"
      },
      "source": [
        "for epoch in range(2):\n",
        "    running_loss = 0.0\n",
        "    for i, data in enumerate(trainloader,0):\n",
        "        # get the inputs, data is a list of [inputs, labels]\n",
        "        inputs, labels = data\n",
        "\n",
        "        #zero the parameter gradient\n",
        "        optimizer.zero_grad()\n",
        "\n",
        "        #forward + backward + optimize\n",
        "        outputs = net(inputs)\n",
        "        loss = criterion(outputs, labels)\n",
        "        loss.backward()\n",
        "        optimizer.step()\n",
        "\n",
        "        # print statistics\n",
        "        running_loss += loss.item()\n",
        "        if i % 2000 == 1999:\n",
        "            print('[%d, %5d] loss: %.3f' %(epoch + 1, i + 1, running_loss/2000))\n",
        "            running_loss = 0.0\n",
        "      \n",
        "print('Finished Training')"
      ],
      "execution_count": 45,
      "outputs": [
        {
          "output_type": "stream",
          "text": [
            "[1,  2000] loss: 2.303\n",
            "[1,  4000] loss: 2.299\n",
            "[1,  6000] loss: 2.291\n",
            "[1,  8000] loss: 2.266\n",
            "[1, 10000] loss: 2.161\n",
            "[1, 12000] loss: 2.054\n",
            "[2,  2000] loss: 1.932\n",
            "[2,  4000] loss: 1.890\n",
            "[2,  6000] loss: 1.812\n",
            "[2,  8000] loss: 1.770\n",
            "[2, 10000] loss: 1.688\n",
            "[2, 12000] loss: 1.641\n",
            "Finished Training\n"
          ],
          "name": "stdout"
        }
      ]
    },
    {
      "cell_type": "markdown",
      "metadata": {
        "id": "uwlTvYEkfKtN",
        "colab_type": "text"
      },
      "source": [
        "Verification on the test set"
      ]
    },
    {
      "cell_type": "code",
      "metadata": {
        "id": "vgPE0SaneTQf",
        "colab_type": "code",
        "colab": {
          "base_uri": "https://localhost:8080/",
          "height": 155
        },
        "outputId": "fc00002e-f366-4879-e9d2-f8dbd1609f94"
      },
      "source": [
        "detaiter = iter(testloader)\n",
        "images, labels = dataiter.next()\n",
        "imshow(torchvision.utils.make_grid(images))\n",
        "print('GroundTruth: {}'.format(' '.join('%5s' % classes[labels[j]] for j in range(4))))"
      ],
      "execution_count": 46,
      "outputs": [
        {
          "output_type": "display_data",
          "data": {
            "image/png": "[encoded data removed]",
            "text/plain": [
              "<Figure size 432x288 with 1 Axes>"
            ]
          },
          "metadata": {
            "tags": []
          }
        },
        {
          "output_type": "stream",
          "text": [
            "GroundTruth: plane   car  deer   dog\n"
          ],
          "name": "stdout"
        }
      ]
    },
    {
      "cell_type": "code",
      "metadata": {
        "id": "UYg0JRJTfkj2",
        "colab_type": "code",
        "colab": {
          "base_uri": "https://localhost:8080/",
          "height": 50
        },
        "outputId": "799d76ee-7d0e-45c9-e9d2-683ed742401d"
      },
      "source": [
        "outputs = net(images)\n",
        "print(type(outputs))\n",
        "print(outputs.shape)"
      ],
      "execution_count": 47,
      "outputs": [
        {
          "output_type": "stream",
          "text": [
            "<class 'torch.Tensor'>\n",
            "torch.Size([4, 10])\n"
          ],
          "name": "stdout"
        }
      ]
    },
    {
      "cell_type": "code",
      "metadata": {
        "id": "Y-HtODgeiIcC",
        "colab_type": "code",
        "colab": {
          "base_uri": "https://localhost:8080/",
          "height": 33
        },
        "outputId": "03db0d70-f510-401d-d669-aef70f58e948"
      },
      "source": [
        "_,  predicted = torch.max(outputs, 1)\n",
        "print('Predicted: ', ' '.join('%5s' % classes[predicted[j]]\n",
        "                              for j in range(4)))"
      ],
      "execution_count": 48,
      "outputs": [
        {
          "output_type": "stream",
          "text": [
            "Predicted:  plane  ship  bird  frog\n"
          ],
          "name": "stdout"
        }
      ]
    },
    {
      "cell_type": "markdown",
      "metadata": {
        "id": "23KEAbR-mFQs",
        "colab_type": "text"
      },
      "source": [
        "Result on test set"
      ]
    },
    {
      "cell_type": "code",
      "metadata": {
        "id": "lfaXJgfJiRz3",
        "colab_type": "code",
        "colab": {
          "base_uri": "https://localhost:8080/",
          "height": 33
        },
        "outputId": "38dfc817-2dd7-4aed-ca6e-166d13e41823"
      },
      "source": [
        "correct = 0\n",
        "total = 0\n",
        "with torch.no_grad():\n",
        "    for data in testloader:\n",
        "        images, labels = data\n",
        "        outputs = net(images)\n",
        "        _, predicted = torch.max(outputs.data, 1)\n",
        "        total += labels.size(0)\n",
        "        correct += (predicted == labels).sum().item()\n",
        "\n",
        "print('Accuracy of the network on the 10000 test images: %d %%' % (\n",
        "    100 * correct / total))"
      ],
      "execution_count": 49,
      "outputs": [
        {
          "output_type": "stream",
          "text": [
            "Accuracy of the network on the 10000 test images: 40 %\n"
          ],
          "name": "stdout"
        }
      ]
    }
  ]
}